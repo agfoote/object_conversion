{
 "cells": [
  {
   "cell_type": "markdown",
   "metadata": {},
   "source": []
  },
  {
   "cell_type": "code",
   "execution_count": 2,
   "metadata": {
    "executionInfo": {
     "elapsed": 329,
     "status": "ok",
     "timestamp": 1741464072634,
     "user": {
      "displayName": "Alexander Gavin",
      "userId": "00229703032283162362"
     },
     "user_tz": 480
    },
    "id": "MO50PVFCB0SK"
   },
   "outputs": [
    {
     "name": "stdout",
     "output_type": "stream",
     "text": [
      "barcodes.tsv features.tsv matrix.mtx\n",
      "barcodes.tsv.gz features.tsv.gz matrix.mtx.gz\n"
     ]
    }
   ],
   "source": [
    "import scanpy as sc\n",
    "from scipy import io\n",
    "import anndata as ad\n",
    "\n",
    "!mkdir matrix_files\n",
    "adata = sc.read_h5ad(\"/Users/alexanderfoote/dev/Projs/Python/scRNA_analysis_7dpi_IAV/h5ad/BKKNN-integrated_processed.h5ad\")\n",
    "adata\n",
    "#adata.raw = adata.copy()  # Save a copy of the raw data\n",
    "adata = adata.raw.to_adata()  #only if adata has RAW saved and thats what you want!\n",
    "\n",
    "with open('matrix_files/barcodes.tsv', 'w') as f:\n",
    "    for item in adata.obs_names:\n",
    "        f.write(item + '\\n')\n",
    "\n",
    "with open('matrix_files/features.tsv', 'w') as f:\n",
    "    for item in ['\\t'.join([x,x,'Gene Expression']) for x in adata.var_names]:\n",
    "        f.write(item + '\\n')\n",
    "\n",
    "io.mmwrite('matrix_files/matrix.mtx', adata.X.T)\n",
    "\n",
    "!ls matrix_files/\n",
    "!gzip matrix_files/*\n",
    "!ls matrix_files/\n",
    "\n",
    "adata.obs.to_csv('metadata.csv')"
   ]
  }
 ],
 "metadata": {
  "colab": {
   "authorship_tag": "ABX9TyPMSDz1V0P7VQH/talZoPKk",
   "provenance": []
  },
  "kernelspec": {
   "display_name": "Python (rkernel)",
   "language": "python",
   "name": "rkernel"
  },
  "language_info": {
   "codemirror_mode": {
    "name": "ipython",
    "version": 3
   },
   "file_extension": ".py",
   "mimetype": "text/x-python",
   "name": "python",
   "nbconvert_exporter": "python",
   "pygments_lexer": "ipython3",
   "version": "3.13.2"
  }
 },
 "nbformat": 4,
 "nbformat_minor": 0
}
